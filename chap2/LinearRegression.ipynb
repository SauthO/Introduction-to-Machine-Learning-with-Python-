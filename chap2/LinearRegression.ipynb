{
 "cells": [
  {
   "cell_type": "code",
   "execution_count": 1,
   "id": "077c0190-b875-4962-9ed0-2d23bbd7f2c1",
   "metadata": {},
   "outputs": [],
   "source": [
    "import numpy as np\n",
    "import matplotlib.pyplot as plt\n",
    "import sklearn\n",
    "import mglearn\n",
    "import pandas as pd\n",
    "from sklearn.model_selection import train_test_split"
   ]
  },
  {
   "cell_type": "code",
   "execution_count": 2,
   "id": "f5670407-9949-4317-8f3d-2bf15f4236d4",
   "metadata": {},
   "outputs": [
    {
     "name": "stdout",
     "output_type": "stream",
     "text": [
      "w[0]: 0.393906  b: -0.031804\n"
     ]
    },
    {
     "data": {
      "image/png": "[encoded data removed]",
      "text/plain": [
       "<Figure size 576x576 with 1 Axes>"
      ]
     },
     "metadata": {
      "needs_background": "light"
     },
     "output_type": "display_data"
    }
   ],
   "source": [
    "mglearn.plots.plot_linear_regression_wave()"
   ]
  },
  {
   "cell_type": "markdown",
   "id": "656a0504-9402-4057-b29f-d777a00b5281",
   "metadata": {},
   "source": [
    "1次元の特徴量に対しては線形モデルはいくらか歪んだ視点を与えるが、特徴量が多い場合は非常に有効である  \n",
    "特に訓練データ数よりも特徴量の方が多い場合は訓練データセット上で任意のターゲットyを線形関数として完全にモデル化できる。  \n",
    "しかし、そのモデル化に意味はない"
   ]
  },
  {
   "cell_type": "markdown",
   "id": "5a0da7d6-a739-49ad-822c-c1d7ab090b43",
   "metadata": {},
   "source": [
    "# Linear regression (aka ordinary least squares (OLS))\n",
    " aka:Also Known As  \n",
    " minimize the mean squared error between predictions and true \n",
    " mean squared error is the sum of the squared differences between pred and true\n",
    " \n",
    " 線形回帰ではパラメータの数は特徴量の数によって決まるが（これは利点）、modelの複雑性をコントロールする術はない"
   ]
  },
  {
   "cell_type": "code",
   "execution_count": 3,
   "id": "c58ac4f2-99a2-4a99-a33b-864229b04c6e",
   "metadata": {},
   "outputs": [],
   "source": [
    "from sklearn.linear_model import LinearRegression"
   ]
  },
  {
   "cell_type": "code",
   "execution_count": 4,
   "id": "df964448-7fcf-44ee-85a4-ef9b0c9244e7",
   "metadata": {},
   "outputs": [],
   "source": [
    "X, y = mglearn.datasets.make_wave(n_samples=60)\n",
    "X_train, X_test, y_train, y_test = train_test_split(X, y, random_state=42)\n",
    "lr = LinearRegression().fit(X_train, y_train)"
   ]
  },
  {
   "cell_type": "code",
   "execution_count": 5,
   "id": "0275610d-c481-4729-9c25-f301b0b85fb8",
   "metadata": {},
   "outputs": [
    {
     "data": {
      "text/plain": [
       "array([0.39390555])"
      ]
     },
     "execution_count": 5,
     "metadata": {},
     "output_type": "execute_result"
    }
   ],
   "source": [
    "lr.coef_"
   ]
  },
  {
   "cell_type": "code",
   "execution_count": 6,
   "id": "c18f13c7-fd46-4806-95ae-c2416c175f67",
   "metadata": {},
   "outputs": [
    {
     "data": {
      "text/plain": [
       "-0.031804343026759746"
      ]
     },
     "execution_count": 6,
     "metadata": {},
     "output_type": "execute_result"
    }
   ],
   "source": [
    "lr.intercept_"
   ]
  },
  {
   "cell_type": "markdown",
   "id": "e1063f8e-a3a1-4a8b-9aff-06a72ddef10c",
   "metadata": {},
   "source": [
    "sklearn では訓練データ由来の属性にはすべてアンダースコアがつく  \n",
    "（ユーザーが設定したパラメータと区別するため）"
   ]
  },
  {
   "cell_type": "code",
   "execution_count": 7,
   "id": "fd12fb34-3e6c-4354-815a-8d13743f5c6a",
   "metadata": {},
   "outputs": [
    {
     "data": {
      "text/plain": [
       "0.6700890315075756"
      ]
     },
     "execution_count": 7,
     "metadata": {},
     "output_type": "execute_result"
    }
   ],
   "source": [
    "lr.score(X_train, y_train) "
   ]
  },
  {
   "cell_type": "code",
   "execution_count": 8,
   "id": "c191eb30-540d-440e-840c-07cee12ef2a1",
   "metadata": {},
   "outputs": [
    {
     "data": {
      "text/plain": [
       "0.65933685968637"
      ]
     },
     "execution_count": 8,
     "metadata": {},
     "output_type": "execute_result"
    }
   ],
   "source": [
    "lr.score(X_test, y_test)"
   ]
  },
  {
   "cell_type": "markdown",
   "id": "19b37978-daad-455c-805a-144d40d91759",
   "metadata": {},
   "source": [
    "these values are not very good, but training and test scores are very close\n",
    "➡ underfitting\n",
    "\n",
    "１次元データセット（特徴量が一つ）については線形モデルはシンプル過ぎる（強すぎる制限）のでoverfittingよりもunderfittingの危険性のほうがある\n",
    "\n",
    "対して高次元データセットではoverfittingになりやすい"
   ]
  },
  {
   "cell_type": "markdown",
   "id": "1cd130bd-172e-4dce-b729-114960df1082",
   "metadata": {},
   "source": [
    "# LinearRegression for a more complex dataset(Boston Housing dataset)"
   ]
  },
  {
   "cell_type": "code",
   "execution_count": 14,
   "id": "89b514ea-d287-4f3f-8a2e-b1ab9307a13b",
   "metadata": {},
   "outputs": [
    {
     "name": "stderr",
     "output_type": "stream",
     "text": [
      "C:\\Users\\shuta\\anaconda3\\lib\\site-packages\\sklearn\\utils\\deprecation.py:87: FutureWarning: Function load_boston is deprecated; `load_boston` is deprecated in 1.0 and will be removed in 1.2.\n",
      "\n",
      "    The Boston housing prices dataset has an ethical problem. You can refer to\n",
      "    the documentation of this function for further details.\n",
      "\n",
      "    The scikit-learn maintainers therefore strongly discourage the use of this\n",
      "    dataset unless the purpose of the code is to study and educate about\n",
      "    ethical issues in data science and machine learning.\n",
      "\n",
      "    In this special case, you can fetch the dataset from the original\n",
      "    source::\n",
      "\n",
      "        import pandas as pd\n",
      "        import numpy as np\n",
      "\n",
      "\n",
      "        data_url = \"http://lib.stat.cmu.edu/datasets/boston\"\n",
      "        raw_df = pd.read_csv(data_url, sep=\"\\s+\", skiprows=22, header=None)\n",
      "        data = np.hstack([raw_df.values[::2, :], raw_df.values[1::2, :2]])\n",
      "        target = raw_df.values[1::2, 2]\n",
      "\n",
      "    Alternative datasets include the California housing dataset (i.e.\n",
      "    :func:`~sklearn.datasets.fetch_california_housing`) and the Ames housing\n",
      "    dataset. You can load the datasets as follows::\n",
      "\n",
      "        from sklearn.datasets import fetch_california_housing\n",
      "        housing = fetch_california_housing()\n",
      "\n",
      "    for the California housing dataset and::\n",
      "\n",
      "        from sklearn.datasets import fetch_openml\n",
      "        housing = fetch_openml(name=\"house_prices\", as_frame=True)\n",
      "\n",
      "    for the Ames housing dataset.\n",
      "    \n",
      "  warnings.warn(msg, category=FutureWarning)\n"
     ]
    }
   ],
   "source": [
    "X, y = mglearn.datasets.load_extended_boston() #特徴量を増やしたもの\n",
    "\n",
    "X_train, X_test, y_train, y_test = train_test_split(X, y, random_state=0)\n",
    "lr = LinearRegression().fit(X_train, y_train)"
   ]
  },
  {
   "cell_type": "code",
   "execution_count": 15,
   "id": "7a196e90-00d4-4b36-8cb5-f55543e4bf74",
   "metadata": {},
   "outputs": [
    {
     "data": {
      "text/plain": [
       "(506, 104)"
      ]
     },
     "execution_count": 15,
     "metadata": {},
     "output_type": "execute_result"
    }
   ],
   "source": [
    "X.shape # 特徴量 104個"
   ]
  },
  {
   "cell_type": "code",
   "execution_count": 16,
   "id": "f7d3f949-f25a-46d6-a4b6-e91fb4541088",
   "metadata": {},
   "outputs": [
    {
     "data": {
      "text/plain": [
       "0.9520519609032729"
      ]
     },
     "execution_count": 16,
     "metadata": {},
     "output_type": "execute_result"
    }
   ],
   "source": [
    "lr.score(X_train, y_train)"
   ]
  },
  {
   "cell_type": "code",
   "execution_count": 17,
   "id": "3b52de30-07d0-4c24-b3e6-90f3f9da2235",
   "metadata": {},
   "outputs": [
    {
     "data": {
      "text/plain": [
       "0.6074721959665842"
      ]
     },
     "execution_count": 17,
     "metadata": {},
     "output_type": "execute_result"
    }
   ],
   "source": [
    "lr.score(X_test, y_test)"
   ]
  },
  {
   "cell_type": "markdown",
   "id": "7a772c7a-7cc0-4297-8e1b-1d170e84421b",
   "metadata": {},
   "source": [
    "This discrepancy between performance on the training set and the test set is a clear sign of overfitting,   \n",
    "➡ 複雑性をコントロールできるモデルを考える必要がある"
   ]
  },
  {
   "cell_type": "markdown",
   "id": "6636e528-322a-4a56-a8de-9337328f7b0f",
   "metadata": {},
   "source": [
    "# Ridge Regression\n",
    "Linear Regression + 重み w をできる限り小さくする制限をかける  \n",
    "overfittingを回避するためにモデルに制限をかける(モデルをよりシンプルにする方向)  \n",
    "各特徴量が出力に与える影響をできる限り小さくする  \n",
    "wの値に制限がかかればそれだけ表現の幅は狭くなる➡シンプルなモデル  \n",
    "L2 正則化"
   ]
  },
  {
   "cell_type": "code",
   "execution_count": 18,
   "id": "073d70a5-351d-47f5-99a9-3d3c595ce4eb",
   "metadata": {},
   "outputs": [],
   "source": [
    "from sklearn.linear_model import Ridge"
   ]
  },
  {
   "cell_type": "code",
   "execution_count": 26,
   "id": "6ad246c2-228a-4f16-a4d4-58eb4bb2d1f6",
   "metadata": {},
   "outputs": [
    {
     "name": "stdout",
     "output_type": "stream",
     "text": [
      "0.8857966585170941\n",
      "0.7527683481744758\n"
     ]
    }
   ],
   "source": [
    "ridge = Ridge().fit(X_train, y_train)\n",
    "print(ridge.score(X_train, y_train))\n",
    "print(ridge.score(X_test, y_test))"
   ]
  },
  {
   "cell_type": "markdown",
   "id": "2d144e8b-285a-4da1-9ca3-1001f9fb32b6",
   "metadata": {},
   "source": [
    "リッジ回帰ではモデルの複雑性と訓練データに対するスコアはトレードオフ"
   ]
  },
  {
   "cell_type": "markdown",
   "id": "564739ba-5aa0-4079-9ed5-5c0f5a1503a2",
   "metadata": {},
   "source": [
    "次の損失関数を最小化する  \n",
    "デフォルトでalpha=1  \n",
    "\n",
    "||y - Xw||^2_2 + alpha * ||w||^2_2\n",
    "\n",
    "alpha 大きい（ペナルティが大きい）➡ 制限を強める（モデルの単純化）  \n",
    "alphs 小さい（ペナルティが小さい）➡ 制限を弱める（モデルの複雑化）  \n",
    "\n",
    "alpah=0ではただの線形回帰"
   ]
  },
  {
   "cell_type": "code",
   "execution_count": 45,
   "id": "56036fe7-464e-4ef4-86e1-d1667ee7b4e8",
   "metadata": {},
   "outputs": [
    {
     "name": "stdout",
     "output_type": "stream",
     "text": [
      "0.7882787115369615\n",
      "0.6359411489177311\n"
     ]
    }
   ],
   "source": [
    "ridge10 = Ridge(alpha=10).fit(X_train, y_train)\n",
    "print(ridge10.score(X_train, y_train))\n",
    "print(ridge10.score(X_test, y_test))"
   ]
  },
  {
   "cell_type": "code",
   "execution_count": 46,
   "id": "0b91b4c9-cc8a-4682-8967-9c11dcfad32b",
   "metadata": {},
   "outputs": [
    {
     "name": "stdout",
     "output_type": "stream",
     "text": [
      "0.9282273685001985\n",
      "0.7722067936480156\n"
     ]
    }
   ],
   "source": [
    "ridge01 = Ridge(alpha=0.1).fit(X_train, y_train)\n",
    "print(ridge01.score(X_train, y_train))\n",
    "print(ridge01.score(X_test, y_test))"
   ]
  },
  {
   "cell_type": "code",
   "execution_count": 47,
   "id": "bf19d187-24d9-40ce-94ca-288f4e6fd37d",
   "metadata": {},
   "outputs": [
    {
     "data": {
      "text/plain": [
       "<matplotlib.legend.Legend at 0x1c967b48850>"
      ]
     },
     "execution_count": 47,
     "metadata": {},
     "output_type": "execute_result"
    },
    {
     "data": {
      "image/png": "[encoded data removed]",
      "text/plain": [
       "<Figure size 432x288 with 1 Axes>"
      ]
     },
     "metadata": {
      "needs_background": "light"
     },
     "output_type": "display_data"
    }
   ],
   "source": [
    "plt.plot(ridge.coef_, \"s\", label=(\"Ridge alpha=1\"))\n",
    "plt.plot(ridge10.coef_, \"^\", label=(\"Ridge alpha=10\"))\n",
    "plt.plot(ridge01.coef_, \"v\", label=(\"Ridge alpha=0.1\"))\n",
    "\n",
    "plt.plot(lr.coef_, \"o\", label=\"LinearRegression\")\n",
    "plt.xlabel(\"Coefficient index\")\n",
    "plt.ylabel(\"Coefficient magnitude\")\n",
    "\n",
    "plt.hlines(0,0, len(lr.coef_))\n",
    "plt.ylim(-25, 25)\n",
    "plt.legend()"
   ]
  },
  {
   "cell_type": "markdown",
   "id": "4565529d-9e3a-4632-86fa-42a2a3933acf",
   "metadata": {},
   "source": [
    "alphaが大きいほどパラメータの大きさは小さい（制限がかかっている）"
   ]
  },
  {
   "cell_type": "markdown",
   "id": "e4f13308-700b-4995-9905-377c5e1b34f8",
   "metadata": {},
   "source": [
    "正則化の影響を理解する方法としてalphaの値を固定して訓練データの量を変えることである"
   ]
  },
  {
   "cell_type": "code",
   "execution_count": 34,
   "id": "96945dff-9a1b-40da-8bae-872f99425b7f",
   "metadata": {},
   "outputs": [
    {
     "name": "stderr",
     "output_type": "stream",
     "text": [
      "C:\\Users\\shuta\\anaconda3\\lib\\site-packages\\sklearn\\utils\\deprecation.py:87: FutureWarning: Function load_boston is deprecated; `load_boston` is deprecated in 1.0 and will be removed in 1.2.\n",
      "\n",
      "    The Boston housing prices dataset has an ethical problem. You can refer to\n",
      "    the documentation of this function for further details.\n",
      "\n",
      "    The scikit-learn maintainers therefore strongly discourage the use of this\n",
      "    dataset unless the purpose of the code is to study and educate about\n",
      "    ethical issues in data science and machine learning.\n",
      "\n",
      "    In this special case, you can fetch the dataset from the original\n",
      "    source::\n",
      "\n",
      "        import pandas as pd\n",
      "        import numpy as np\n",
      "\n",
      "\n",
      "        data_url = \"http://lib.stat.cmu.edu/datasets/boston\"\n",
      "        raw_df = pd.read_csv(data_url, sep=\"\\s+\", skiprows=22, header=None)\n",
      "        data = np.hstack([raw_df.values[::2, :], raw_df.values[1::2, :2]])\n",
      "        target = raw_df.values[1::2, 2]\n",
      "\n",
      "    Alternative datasets include the California housing dataset (i.e.\n",
      "    :func:`~sklearn.datasets.fetch_california_housing`) and the Ames housing\n",
      "    dataset. You can load the datasets as follows::\n",
      "\n",
      "        from sklearn.datasets import fetch_california_housing\n",
      "        housing = fetch_california_housing()\n",
      "\n",
      "    for the California housing dataset and::\n",
      "\n",
      "        from sklearn.datasets import fetch_openml\n",
      "        housing = fetch_openml(name=\"house_prices\", as_frame=True)\n",
      "\n",
      "    for the Ames housing dataset.\n",
      "    \n",
      "  warnings.warn(msg, category=FutureWarning)\n"
     ]
    },
    {
     "data": {
      "image/png": "[encoded data removed]",
      "text/plain": [
       "<Figure size 432x288 with 1 Axes>"
      ]
     },
     "metadata": {
      "needs_background": "light"
     },
     "output_type": "display_data"
    }
   ],
   "source": [
    "mglearn.plots.plot_ridge_n_samples()"
   ]
  },
  {
   "cell_type": "markdown",
   "id": "6b961075-59ac-4f4d-9d10-2f2dce798525",
   "metadata": {},
   "source": [
    "Scoreは訓練データのサイズに依存（学習曲線 learning curves）"
   ]
  },
  {
   "cell_type": "markdown",
   "id": "6aebd118-8f3d-4545-ae3b-0dff182e6146",
   "metadata": {},
   "source": [
    "十分なデータセットがあるなら正則化はそこまで重要ではない"
   ]
  },
  {
   "cell_type": "markdown",
   "id": "52b0ba18-c393-4309-a0a3-e64e239715b6",
   "metadata": {},
   "source": [
    "# Lasso Regression\n",
    "L1正則化  \n",
    "次の関数を最小化する（デフォルトはalpha=1）  \n",
    "(1 / (2 * n_samples)) * ||y - Xw||^2_2 + alpha * ||w||_1\n",
    "\n",
    "影響の小さいパラメータをゼロにする（sparseな結果になる）  \n",
    "無視する特徴量が出てくる（特徴量の自動選択ともいえる）  \n",
    "➡　モデルの単純化 "
   ]
  },
  {
   "cell_type": "code",
   "execution_count": 38,
   "id": "bfd1a5b6-4096-44a6-b199-bd4b509ca5c4",
   "metadata": {},
   "outputs": [],
   "source": [
    "from sklearn.linear_model import Lasso"
   ]
  },
  {
   "cell_type": "code",
   "execution_count": 40,
   "id": "5755477f-0688-4a86-a1c2-dc5fcd8fcb10",
   "metadata": {},
   "outputs": [
    {
     "name": "stdout",
     "output_type": "stream",
     "text": [
      "0.29323768991114596\n",
      "0.20937503255272272\n",
      "4\n"
     ]
    }
   ],
   "source": [
    "lasso = Lasso().fit(X_train, y_train)\n",
    "print(lasso.score(X_train, y_train))\n",
    "print(lasso.score(X_test, y_test))\n",
    "print(np.sum(lasso.coef_ != 0))"
   ]
  },
  {
   "cell_type": "markdown",
   "id": "7b6bb9f5-133d-4781-b36d-cc9ce59ae388",
   "metadata": {},
   "source": [
    "underfitting  \n",
    "制限が強すぎる（モデルを単純化しすぎている）  \n",
    "alphaを小さくしてモデルを複雑化  \n",
    "alphaを変えて損失関数の最小化が収束しないときはmax_iterも変える必要がある  \n",
    "複雑なほど収束に時間がかかりそう。。"
   ]
  },
  {
   "cell_type": "code",
   "execution_count": 44,
   "id": "c535991c-5b87-4ed8-a811-efcaa95ce0b0",
   "metadata": {},
   "outputs": [
    {
     "name": "stdout",
     "output_type": "stream",
     "text": [
      "0.8962226511086497\n",
      "0.7656571174549981\n",
      "33\n"
     ]
    }
   ],
   "source": [
    "lasso001=Lasso(alpha=0.01, max_iter=100000).fit(X_train, y_train)\n",
    "print(lasso001.score(X_train, y_train))\n",
    "print(lasso001.score(X_test, y_test))\n",
    "print(np.sum(lasso001.coef_ != 0))"
   ]
  },
  {
   "cell_type": "markdown",
   "id": "78056c80-ba04-4b55-b3d1-86e843913cff",
   "metadata": {},
   "source": [
    "alphaを小さくし過ぎると再びoverfittingする"
   ]
  },
  {
   "cell_type": "code",
   "execution_count": 48,
   "id": "914d7e18-c5ea-4fdd-a6ec-f61ec89ebae5",
   "metadata": {},
   "outputs": [
    {
     "name": "stdout",
     "output_type": "stream",
     "text": [
      "0.9507158754515462\n",
      "0.6437467421273534\n",
      "96\n"
     ]
    }
   ],
   "source": [
    "lasso00001=Lasso(alpha=0.0001, max_iter=100000).fit(X_train, y_train)\n",
    "print(lasso00001.score(X_train, y_train))\n",
    "print(lasso00001.score(X_test, y_test))\n",
    "print(np.sum(lasso00001.coef_ != 0))"
   ]
  },
  {
   "cell_type": "code",
   "execution_count": null,
   "id": "1a3d5e86-6a92-4063-a21d-cb16f7fb2de6",
   "metadata": {},
   "outputs": [],
   "source": []
  },
  {
   "cell_type": "code",
   "execution_count": 49,
   "id": "85c9ba1f-191b-4144-9882-baa1e6e5abc7",
   "metadata": {},
   "outputs": [
    {
     "name": "stdout",
     "output_type": "stream",
     "text": [
      "0.8961122320864717\n",
      "0.7677995670886713\n",
      "32\n"
     ]
    },
    {
     "name": "stderr",
     "output_type": "stream",
     "text": [
      "C:\\Users\\shuta\\anaconda3\\lib\\site-packages\\sklearn\\linear_model\\_coordinate_descent.py:647: ConvergenceWarning: Objective did not converge. You might want to increase the number of iterations, check the scale of the features or consider increasing regularisation. Duality gap: 4.690e+01, tolerance: 3.233e+00\n",
      "  model = cd_fast.enet_coordinate_descent(\n"
     ]
    }
   ],
   "source": [
    "lasso001_noiter=Lasso(alpha=0.01).fit(X_train, y_train)\n",
    "print(lasso001_noiter.score(X_train, y_train))\n",
    "print(lasso001_noiter.score(X_test, y_test))\n",
    "print(np.sum(lasso001_noiter.coef_ != 0))"
   ]
  },
  {
   "cell_type": "code",
   "execution_count": 54,
   "id": "7d9a3866-12a6-43d7-99ce-725a6399224a",
   "metadata": {},
   "outputs": [
    {
     "data": {
      "text/plain": [
       "Text(0, 0.5, 'Coefficient magnitude')"
      ]
     },
     "execution_count": 54,
     "metadata": {},
     "output_type": "execute_result"
    },
    {
     "data": {
      "image/png": "[encoded data removed]",
      "text/plain": [
       "<Figure size 432x288 with 1 Axes>"
      ]
     },
     "metadata": {
      "needs_background": "light"
     },
     "output_type": "display_data"
    }
   ],
   "source": [
    "plt.plot(lasso.coef_, \"s\", label=\"Lasso alpha=1\")\n",
    "plt.plot(lasso001.coef_, \"^\", label=\"Lasso alpha=0.01\")\n",
    "plt.plot(lasso00001.coef_, \"v\", label=\"Lasso alpha=0.0001\")\n",
    "\n",
    "plt.plot(ridge01.coef_, \"o\", label=\"Ridge alpha=0.1\")\n",
    "plt.legend(ncol=2, loc=(0, 1.05))\n",
    "plt.ylim(-25, 25)\n",
    "plt.xlabel(\"Coefficient index\")\n",
    "plt.ylabel(\"Coefficient magnitude\")"
   ]
  },
  {
   "cell_type": "markdown",
   "id": "dfa734f7-a611-46f6-a2a2-f67ae71f717d",
   "metadata": {},
   "source": [
    "Ridge(alpha=0.1)とLasso(alpha=0.01)は同じような性能だがridgeはすべての重みがnonzero  \n",
    "\n",
    "実践的にはRidgeをfirst choiceとして使うことがよくある。  \n",
    "特徴量が多くそのうち重要な重みが少しの場合はLassoを使うと良い。\n",
    "\n",
    "Lassoは解釈しやすいモデルになる（重要でない重みは無視されて考慮すべき特徴量が減るから）\n",
    "\n",
    "実用的にはLassoとRidgeを組み合わせたElasticNetが最良\n"
   ]
  },
  {
   "cell_type": "markdown",
   "id": "95ea1932-d4bf-4a45-9504-a3013435471a",
   "metadata": {},
   "source": [
    "$$\n",
    "1 / (2 * n_{samples}) * ||y - Xw||^2_2 +  \n",
    "\\alpha * l1_{ratio} * ||w||_1  +  \n",
    "0.5 * \\alpha * (1 - l1_{ratio}) * ||w||^2_2\n",
    "$$"
   ]
  },
  {
   "cell_type": "code",
   "execution_count": null,
   "id": "13fec606-6b3b-46c9-b601-ed06acbf31ca",
   "metadata": {},
   "outputs": [],
   "source": []
  },
  {
   "cell_type": "code",
   "execution_count": null,
   "id": "d36671ca-8fea-4fb5-9188-bf89ad485adb",
   "metadata": {},
   "outputs": [],
   "source": []
  }
 ],
 "metadata": {
  "kernelspec": {
   "display_name": "Python 3 (ipykernel)",
   "language": "python",
   "name": "python3"
  },
  "language_info": {
   "codemirror_mode": {
    "name": "ipython",
    "version": 3
   },
   "file_extension": ".py",
   "mimetype": "text/x-python",
   "name": "python",
   "nbconvert_exporter": "python",
   "pygments_lexer": "ipython3",
   "version": "3.9.12"
  }
 },
 "nbformat": 4,
 "nbformat_minor": 5
}
